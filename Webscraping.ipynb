{
 "cells": [
  {
   "cell_type": "markdown",
   "metadata": {},
   "source": [
    "#### Caso precise baixar as bibliotecas."
   ]
  },
  {
   "cell_type": "code",
   "execution_count": null,
   "metadata": {},
   "outputs": [],
   "source": [
    "pip install selenium\n",
    "pip install openpyxl\n",
    "pip install pandas\n",
    "pip install numpy"
   ]
  },
  {
   "cell_type": "markdown",
   "metadata": {},
   "source": [
    "#### Importando o que vamos precisar."
   ]
  },
  {
   "cell_type": "code",
   "execution_count": 69,
   "metadata": {},
   "outputs": [],
   "source": [
    "from selenium import webdriver\n",
    "from selenium.webdriver.chrome.service import Service\n",
    "from selenium.webdriver.common.by import By\n",
    "from selenium.webdriver.chrome.options import Options\n",
    "from openpyxl.styles import Font, Alignment, Border, Side\n",
    "import pandas as pd\n",
    "import time\n",
    "from openpyxl import load_workbook\n",
    "from openpyxl.styles import Font, Alignment\n",
    "import os\n",
    "import numpy as np\n",
    "import json\n"
   ]
  },
  {
   "cell_type": "markdown",
   "metadata": {},
   "source": [
    "#### Abrir o Selenium em segundo plano (antes fiz em primeiro plano) e a partir daí indicar os caminhos para coletas de informações."
   ]
  },
  {
   "cell_type": "code",
   "execution_count": 70,
   "metadata": {},
   "outputs": [],
   "source": [
    "# Configurar o Selenium para rodar em segundo plano (headless)\n",
    "chrome_options = Options()\n",
    "chrome_options.add_argument(\"--headless\")  # Rodar sem abrir o navegador\n",
    "chrome_options.add_argument(\"--disable-gpu\")\n",
    "chrome_options.add_argument(\"--window-size=1920x1080\")\n",
    "\n",
    "# Caminho para o ChromeDriver\n",
    "driver_path = \"C:/Users/Samsung/Documents/GitHub-Datas/Webscraping_Indicadores_Combustiveis/chromedriver-win64/chromedriver.exe\"\n",
    "service = Service(driver_path)\n",
    "driver = webdriver.Chrome(service=service, options=chrome_options)\n",
    "\n",
    "# Acessar o site\n",
    "driver.get(\"https://www.cepea.esalq.usp.br/br/indicador/etanol.aspx\")\n",
    "\n",
    "# Aguardar carregamento da página\n",
    "time.sleep(3)"
   ]
  },
  {
   "cell_type": "markdown",
   "metadata": {},
   "source": [
    "#### Coletando informações do site para inserir no dataframe."
   ]
  },
  {
   "cell_type": "code",
   "execution_count": 71,
   "metadata": {},
   "outputs": [],
   "source": [
    "# Capturar o título da tabela\n",
    "titulo = driver.find_element(By.XPATH, \"/html/body/div/div[3]/div[2]/div[2]/div[2]/div[1]/div[1]\").text\n",
    "\n",
    "# Capturar os títulos das colunas\n",
    "coluna_data = \"DATA\"\n",
    "coluna_2 = driver.find_element(By.XPATH, \"/html/body/div/div[3]/div[2]/div[2]/div[2]/div[1]/div[2]/div[1]/table/thead/tr/th[2]\").text\n",
    "coluna_3 = driver.find_element(By.XPATH, \"/html/body/div/div[3]/div[2]/div[2]/div[2]/div[1]/div[2]/div[1]/table/thead/tr/th[3]\").text\n",
    "coluna_4 = driver.find_element(By.XPATH, \"/html/body/div/div[3]/div[2]/div[2]/div[2]/div[1]/div[2]/div[1]/table/thead/tr/th[4]\").text\n",
    "\n",
    "# Criar a lista para armazenar os dados\n",
    "dados = []\n",
    "\n",
    "# Clicar no botão \"Mais Dados\" antes de coletar as informações\n",
    "try:\n",
    "    botao_mais_dados = driver.find_element(By.XPATH, \"/html/body/div/div[3]/div[2]/div[2]/div[2]/div[1]/div[3]/a[3]\")\n",
    "    botao_mais_dados.click()\n",
    "    time.sleep(3)  \n",
    "except Exception as e:\n",
    "    print(\"Botão 'Mais Dados' não encontrado ou erro ao clicar:\", e)\n",
    "\n",
    "# Identificar quantas linhas existem na tabela após carregar mais dados\n",
    "num_linhas = len(driver.find_elements(By.XPATH, \"/html/body/div/div[3]/div[2]/div[2]/div[2]/div[1]/div[2]/div[1]/table/tbody/tr\"))\n",
    "\n",
    "# Iterar pelas linhas e capturar os valores das colunas\n",
    "for i in range(1, num_linhas + 1):\n",
    "    data = driver.find_element(By.XPATH, f\"/html/body/div/div[3]/div[2]/div[2]/div[2]/div[1]/div[2]/div[1]/table/tbody/tr[{i}]/td[1]\").text\n",
    "    valor_2 = driver.find_element(By.XPATH, f\"/html/body/div/div[3]/div[2]/div[2]/div[2]/div[1]/div[2]/div[1]/table/tbody/tr[{i}]/td[2]\").text\n",
    "    valor_3 = driver.find_element(By.XPATH, f\"/html/body/div/div[3]/div[2]/div[2]/div[2]/div[1]/div[2]/div[1]/table/tbody/tr[{i}]/td[3]\").text\n",
    "    valor_4 = driver.find_element(By.XPATH, f\"/html/body/div/div[3]/div[2]/div[2]/div[2]/div[1]/div[2]/div[1]/table/tbody/tr[{i}]/td[4]\").text\n",
    "    \n",
    "    # Adicionar ao dataset\n",
    "    dados.append([data, valor_2, valor_3, valor_4])\n",
    "\n",
    "# Criar o DataFrame com os nomes das colunas extraídas\n",
    "df = pd.DataFrame(dados, columns=[coluna_data, coluna_2, coluna_3, coluna_4])\n"
   ]
  },
  {
   "cell_type": "markdown",
   "metadata": {},
   "source": [
    "#### Tratamento de dados para considerar números em formato floats. Não foi pedido, mas criei uma nova variável, pois se houver necessidade de se trabalhar com a variável 'VAR./SEMANA' como '%' isso não seria possível."
   ]
  },
  {
   "cell_type": "code",
   "execution_count": 72,
   "metadata": {},
   "outputs": [],
   "source": [
    "# Remover linhas vazias\n",
    "df = df.replace(\"\", None).dropna()\n",
    "\n",
    "# Função para converter números no formato float\n",
    "def converter_para_float(valor):\n",
    "    if isinstance(valor, str):  # Verifica se é string\n",
    "        valor = valor.strip()  # Remove espaços em branco extras\n",
    "        if valor == \"\":  # Se for string vazia, retorna NaN\n",
    "            return np.nan\n",
    "        try:\n",
    "            return float(valor.replace(\".\", \"\").replace(\",\", \".\"))  # Converte para float\n",
    "        except ValueError:  # Se não puder converter, retorna NaN\n",
    "            return np.nan\n",
    "    return valor  # Se já for número, retorna o valor original\n",
    "\n",
    "# Lista das colunas que devem ser mantidas como texto\n",
    "colunas_texto = [\"DATA\",\"VAR./SEMANA\"]\n",
    "\n",
    "# Aplicar a conversão para todas as colunas, exceto as de texto\n",
    "df = df.apply(lambda col: col.apply(converter_para_float) if col.name not in colunas_texto else col)\n"
   ]
  },
  {
   "cell_type": "markdown",
   "metadata": {},
   "source": [
    "#### Salvando e configurando o Excel, conforme a necessidade."
   ]
  },
  {
   "cell_type": "code",
   "execution_count": 73,
   "metadata": {},
   "outputs": [
    {
     "name": "stdout",
     "output_type": "stream",
     "text": [
      "Arquivo salvo com sucesso em: C:/Users/Samsung/Documents/GitHub-Datas/Webscraping_Indicadores_Combustiveis\\Indicador Semanal do Etanol Hidratado.xlsx\n"
     ]
    }
   ],
   "source": [
    "# Definir o caminho de salvamento\n",
    "output_folder = \"C:/Users/Samsung/Documents/GitHub-Datas/Webscraping_Indicadores_Combustiveis\"\n",
    "file_path = os.path.join(output_folder, \"Indicador Semanal do Etanol Hidratado.xlsx\")\n",
    "\n",
    "# Salvar em um arquivo Excel\n",
    "df.to_excel(file_path, index=False, startrow=1)  # startrow=1 para deixar espaço para o título\n",
    "\n",
    "# Ajustar o formato do Excel\n",
    "wb = load_workbook(file_path)\n",
    "ws = wb.active\n",
    "\n",
    "# Mesclar as 5 primeiras colunas na linha 1 e adicionar o título\n",
    "ws.merge_cells(\"A1:D1\")\n",
    "ws[\"A1\"] = titulo\n",
    "\n",
    "# Formatar a célula mesclada\n",
    "ws[\"A1\"].font = Font(bold=True, size=11)\n",
    "ws[\"A1\"].alignment = Alignment(horizontal=\"center\", vertical=\"center\",  wrap_text=True)\n",
    "\n",
    "# Aumentar a altura da linha 1 (onde está a célula mesclada)\n",
    "ws.row_dimensions[1].height = 30  # Ajuste o valor conforme necessário\n",
    "\n",
    "# Criar borda para a célula mesclada\n",
    "border_style = Border(\n",
    "    left=Side(style=\"thin\"),\n",
    "    right=Side(style=\"thin\"),\n",
    "    top=Side(style=\"thin\"),\n",
    "    bottom=Side(style=\"thin\")\n",
    ")\n",
    "\n",
    "# Aplicar borda em todas as células mescladas (A1:E1)\n",
    "for col in [\"A\", \"B\", \"C\", \"D\"]:\n",
    "    ws[f\"{col}1\"].border = border_style\n",
    "\n",
    "# Ajustar largura das colunas (ignorar células mescladas)\n",
    "for col in ws.iter_cols(min_row=2, max_row=ws.max_row):  # Começa da linha 2 para evitar erro na célula mesclada\n",
    "    max_length = 0\n",
    "    col_letter = col[0].column_letter \n",
    "    for cell in col:\n",
    "        if cell.value and isinstance(cell.value, str):\n",
    "            max_length = max(max_length, len(cell.value))\n",
    "    ws.column_dimensions[col_letter].width = max_length + 2\n",
    "\n",
    "# Salvar as alterações\n",
    "wb.save(file_path)\n",
    "\n",
    "# Fechar o Selenium\n",
    "driver.quit()\n",
    "\n",
    "print(f\"Arquivo salvo com sucesso em: {file_path}\")"
   ]
  },
  {
   "cell_type": "markdown",
   "metadata": {},
   "source": [
    "#### Salvando em formato JSON."
   ]
  },
  {
   "cell_type": "code",
   "execution_count": 61,
   "metadata": {},
   "outputs": [
    {
     "name": "stdout",
     "output_type": "stream",
     "text": [
      "Arquivo JSON salvo com sucesso em: C:/Users/Samsung/Documents/GitHub-Datas/Webscraping_Indicadores_Combustiveis/Indicador Semanal do Etanol Hidratado.json\n"
     ]
    }
   ],
   "source": [
    "\n",
    "# Converter o DataFrame para JSON no formato 'records'\n",
    "df_json = df.to_json(orient='records', date_format='iso')\n",
    "\n",
    "# Definir o caminho de salvamento para o arquivo JSON\n",
    "json_output_path = \"C:/Users/Samsung/Documents/GitHub-Datas/Webscraping_Indicadores_Combustiveis/Indicador Semanal do Etanol Hidratado.json\"\n",
    "\n",
    "# Salvar o JSON em um arquivo\n",
    "with open(json_output_path, 'w') as json_file:\n",
    "    json.dump(json.loads(df_json), json_file, indent=4)\n",
    "\n",
    "print(f\"Arquivo JSON salvo com sucesso em: {json_output_path}\")"
   ]
  },
  {
   "cell_type": "code",
   "execution_count": null,
   "metadata": {},
   "outputs": [],
   "source": []
  }
 ],
 "metadata": {
  "kernelspec": {
   "display_name": "base",
   "language": "python",
   "name": "python3"
  },
  "language_info": {
   "codemirror_mode": {
    "name": "ipython",
    "version": 3
   },
   "file_extension": ".py",
   "mimetype": "text/x-python",
   "name": "python",
   "nbconvert_exporter": "python",
   "pygments_lexer": "ipython3",
   "version": "3.8.16"
  }
 },
 "nbformat": 4,
 "nbformat_minor": 2
}
